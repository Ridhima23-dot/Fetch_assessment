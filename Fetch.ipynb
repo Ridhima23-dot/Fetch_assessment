{
  "nbformat": 4,
  "nbformat_minor": 0,
  "metadata": {
    "colab": {
      "provenance": []
    },
    "kernelspec": {
      "name": "python3",
      "display_name": "Python 3"
    },
    "language_info": {
      "name": "python"
    }
  },
  "cells": [
    {
      "cell_type": "code",
      "execution_count": null,
      "metadata": {
        "id": "435Z0b5wzxV4"
      },
      "outputs": [],
      "source": [
        "import pandas as pd\n",
        "import numpy as np\n",
        "import matplotlib.pyplot as plt\n",
        "import seaborn as sns"
      ]
    },
    {
      "cell_type": "code",
      "source": [
        "# Load datasets\n",
        "user_df = pd.read_csv(\"/mnt/data/USER_TAKEHOME.csv\")\n",
        "transaction_df = pd.read_csv(\"/mnt/data/TRANSACTION_TAKEHOME.csv\")\n",
        "products_df = pd.read_csv(\"/mnt/data/PRODUCTS_TAKEHOME.csv\")"
      ],
      "metadata": {
        "id": "Q5YkmcQpz4pp"
      },
      "execution_count": null,
      "outputs": []
    },
    {
      "cell_type": "code",
      "source": [
        "# Display basic info\n",
        "print(\"USER_TAKEHOME Info:\")\n",
        "print(user_df.info())\n",
        "print(\"\\nTRANSACTION_TAKEHOME Info:\")\n",
        "print(transaction_df.info())\n",
        "print(\"\\nPRODUCTS_TAKEHOME Info:\")\n",
        "print(products_df.info())"
      ],
      "metadata": {
        "id": "1QIQomY6z411"
      },
      "execution_count": null,
      "outputs": []
    },
    {
      "cell_type": "code",
      "source": [
        "# Checking for missing values\n",
        "print(\"\\nMissing Values in USER_TAKEHOME:\")\n",
        "print(user_df.isnull().sum())\n",
        "print(\"\\nMissing Values in TRANSACTION_TAKEHOME:\")\n",
        "print(transaction_df.isnull().sum())\n",
        "print(\"\\nMissing Values in PRODUCTS_TAKEHOME:\")\n",
        "print(products_df.isnull().sum())"
      ],
      "metadata": {
        "id": "u9lG6gUXz47k"
      },
      "execution_count": null,
      "outputs": []
    },
    {
      "cell_type": "code",
      "source": [
        "# Checking for duplicates\n",
        "print(\"\\nDuplicate Rows in USER_TAKEHOME:\", user_df.duplicated().sum())\n",
        "print(\"Duplicate Rows in TRANSACTION_TAKEHOME:\", transaction_df.duplicated().sum())\n",
        "print(\"Duplicate Rows in PRODUCTS_TAKEHOME:\", products_df.duplicated().sum())\n"
      ],
      "metadata": {
        "id": "MbrB7w5dz4-a"
      },
      "execution_count": null,
      "outputs": []
    },
    {
      "cell_type": "code",
      "source": [
        "# Investigating barcode inconsistencies in PRODUCTS_TAKEHOME\n",
        "def check_barcode_format(barcode):\n",
        "    return isinstance(barcode, str) and barcode.isnumeric()\n",
        "\n",
        "products_df['barcode_valid'] = products_df['BARCODE'].astype(str).apply(check_barcode_format)\n",
        "print(\"\\nInvalid barcodes:\")\n",
        "print(products_df[~products_df['barcode_valid']])"
      ],
      "metadata": {
        "id": "nrTMtHWM0DLc"
      },
      "execution_count": null,
      "outputs": []
    },
    {
      "cell_type": "code",
      "source": [
        "# Exploratory Analysis: Age Distribution of Users\n",
        "plt.figure(figsize=(10, 5))\n",
        "sns.histplot(user_df['age'], bins=30, kde=True)\n",
        "plt.title(\"Age Distribution of Users\")\n",
        "plt.xlabel(\"Age\")\n",
        "plt.ylabel(\"Count\")\n",
        "plt.show()"
      ],
      "metadata": {
        "id": "-MSOld-X0DYi"
      },
      "execution_count": null,
      "outputs": []
    },
    {
      "cell_type": "code",
      "source": [
        "# SQL-style Query: Top 5 Brands by Receipts Scanned (Users 21+)\n",
        "filtered_trans = transaction_df.merge(products_df, on='BARCODE', how='left')\n",
        "filtered_users = user_df[user_df['age'] >= 21]\n",
        "filtered_data = filtered_trans[filtered_trans['user_id'].isin(filtered_users['user_id'])]\n",
        "top_brands = filtered_data['BRAND'].value_counts().head(5)\n",
        "print(\"\\nTop 5 Brands by Receipts Scanned (Users 21+):\")\n",
        "print(top_brands)"
      ],
      "metadata": {
        "id": "xXERh_d1z5AT"
      },
      "execution_count": null,
      "outputs": []
    },
    {
      "cell_type": "code",
      "source": [
        "# Business Insight: Health & Wellness Sales Share\n",
        "health_wellness_sales = filtered_data[filtered_data['CATEGORY_1'] == 'Health & Wellness']['total_spent'].sum()\n",
        "total_sales = filtered_data['total_spent'].sum()\n",
        "percentage_health_wellness = (health_wellness_sales / total_sales) * 100\n",
        "print(\"\\nPercentage of Sales in Health & Wellness:\", round(percentage_health_wellness, 2), \"%\")\n"
      ],
      "metadata": {
        "id": "avYthiq5z5Cw"
      },
      "execution_count": null,
      "outputs": []
    }
  ]
}